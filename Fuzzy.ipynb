{
  "nbformat": 4,
  "nbformat_minor": 0,
  "metadata": {
    "colab": {
      "name": "Fuzzy.ipynb",
      "provenance": [],
      "collapsed_sections": [],
      "authorship_tag": "ABX9TyN6VOPTnuEmgf80ttbbq0WF",
      "include_colab_link": true
    },
    "kernelspec": {
      "name": "python3",
      "display_name": "Python 3"
    },
    "language_info": {
      "name": "python"
    }
  },
  "cells": [
    {
      "cell_type": "markdown",
      "metadata": {
        "id": "view-in-github",
        "colab_type": "text"
      },
      "source": [
        "<a href=\"https://colab.research.google.com/github/rbertizini/Fuzzy_fun/blob/main/Fuzzy.ipynb\" target=\"_parent\"><img src=\"https://colab.research.google.com/assets/colab-badge.svg\" alt=\"Open In Colab\"/></a>"
      ]
    },
    {
      "cell_type": "markdown",
      "source": [
        "Processo simples - busca por conteúdo natural"
      ],
      "metadata": {
        "id": "_QIJFgqDuyP3"
      }
    },
    {
      "cell_type": "code",
      "source": [
        "text = \"Um grande texto aqui que contém várias informações e sobre algo muito importante\"\n",
        "query = \"Algo\"\n",
        "print(\"Found: {}\".format(query in text))"
      ],
      "metadata": {
        "colab": {
          "base_uri": "https://localhost:8080/"
        },
        "id": "hwUIsPyxtyiW",
        "outputId": "4fb88972-9d2f-4847-919b-e5d9744c1a9a"
      },
      "execution_count": 8,
      "outputs": [
        {
          "output_type": "stream",
          "name": "stdout",
          "text": [
            "Found: True\n"
          ]
        }
      ]
    },
    {
      "cell_type": "markdown",
      "source": [
        "Processo Fuzzy - busca por aproximação (distance levenshtein)\n",
        "\n",
        "Maiores informações em https://en.wikipedia.org/wiki/Levenshtein_distance"
      ],
      "metadata": {
        "id": "zsER5_Bsuv7O"
      }
    },
    {
      "cell_type": "markdown",
      "source": [
        "Instalação"
      ],
      "metadata": {
        "id": "f_OLnRBT0Da_"
      }
    },
    {
      "cell_type": "code",
      "source": [
        "pip install fuzzywuzzy"
      ],
      "metadata": {
        "colab": {
          "base_uri": "https://localhost:8080/"
        },
        "id": "nkNlNOMktOAK",
        "outputId": "417f1e7b-1b59-4b99-9030-2823b3dcb41e"
      },
      "execution_count": 2,
      "outputs": [
        {
          "output_type": "stream",
          "name": "stdout",
          "text": [
            "Collecting fuzzywuzzy\n",
            "  Downloading fuzzywuzzy-0.18.0-py2.py3-none-any.whl (18 kB)\n",
            "Installing collected packages: fuzzywuzzy\n",
            "Successfully installed fuzzywuzzy-0.18.0\n"
          ]
        }
      ]
    },
    {
      "cell_type": "code",
      "source": [
        "pip install fuzzywuzzy[speedup]"
      ],
      "metadata": {
        "colab": {
          "base_uri": "https://localhost:8080/"
        },
        "id": "mtbYB8xstkWa",
        "outputId": "5f7f8200-1446-496b-fe2e-e698224ad166"
      },
      "execution_count": 3,
      "outputs": [
        {
          "output_type": "stream",
          "name": "stdout",
          "text": [
            "Requirement already satisfied: fuzzywuzzy[speedup] in /usr/local/lib/python3.7/dist-packages (0.18.0)\n",
            "Collecting python-levenshtein>=0.12\n",
            "  Downloading python-Levenshtein-0.12.2.tar.gz (50 kB)\n",
            "\u001b[K     |████████████████████████████████| 50 kB 2.8 MB/s \n",
            "\u001b[?25hRequirement already satisfied: setuptools in /usr/local/lib/python3.7/dist-packages (from python-levenshtein>=0.12->fuzzywuzzy[speedup]) (57.4.0)\n",
            "Building wheels for collected packages: python-levenshtein\n",
            "  Building wheel for python-levenshtein (setup.py) ... \u001b[?25l\u001b[?25hdone\n",
            "  Created wheel for python-levenshtein: filename=python_Levenshtein-0.12.2-cp37-cp37m-linux_x86_64.whl size=149860 sha256=60933bf6b77d63647b636fda4f73bf63de9b7d7a2954ab74e3328776ea2843bf\n",
            "  Stored in directory: /root/.cache/pip/wheels/05/5f/ca/7c4367734892581bb5ff896f15027a932c551080b2abd3e00d\n",
            "Successfully built python-levenshtein\n",
            "Installing collected packages: python-levenshtein\n",
            "Successfully installed python-levenshtein-0.12.2\n"
          ]
        }
      ]
    },
    {
      "cell_type": "markdown",
      "source": [
        "Declaração"
      ],
      "metadata": {
        "id": "iSSFTrF20HmO"
      }
    },
    {
      "cell_type": "code",
      "source": [
        "from fuzzywuzzy import fuzz\n",
        "from fuzzywuzzy import process"
      ],
      "metadata": {
        "id": "E2bzUB6ptnm7"
      },
      "execution_count": 4,
      "outputs": []
    },
    {
      "cell_type": "markdown",
      "source": [
        "RATIO - Semelhança entre duas strings - baseado no distanciamento entre ambas"
      ],
      "metadata": {
        "id": "EInV7q1r0JJn"
      }
    },
    {
      "cell_type": "code",
      "source": [
        "str1 = \"Resposta para a vida, o universo e tudo mais\"\n",
        "str2 = \"Resposta para a vida, o universo e tudo mais.\"\n",
        "fuzz.ratio(str1,str2)"
      ],
      "metadata": {
        "colab": {
          "base_uri": "https://localhost:8080/"
        },
        "id": "g3_3l8W4tqv0",
        "outputId": "b2a73c8f-00dc-4ef8-fad2-edfd5db3f306"
      },
      "execution_count": 20,
      "outputs": [
        {
          "output_type": "execute_result",
          "data": {
            "text/plain": [
              "99"
            ]
          },
          "metadata": {},
          "execution_count": 20
        }
      ]
    },
    {
      "cell_type": "markdown",
      "source": [
        "PARTIAL_RATIO - Semelhanca entre duas string parciais\n"
      ],
      "metadata": {
        "id": "-on32VaW0-0h"
      }
    },
    {
      "cell_type": "code",
      "source": [
        "str1 = \"Resposta para a vida, o universo e tudo mais\"\n",
        "str2 = \"Resposta para a vida, o universo e tudo mais.\"\n",
        "fuzz.partial_ratio(str1,str2)"
      ],
      "metadata": {
        "colab": {
          "base_uri": "https://localhost:8080/"
        },
        "id": "Aritet4V1Now",
        "outputId": "6d3ba8ab-5355-4b61-83c4-d35291fd0853"
      },
      "execution_count": 21,
      "outputs": [
        {
          "output_type": "execute_result",
          "data": {
            "text/plain": [
              "100"
            ]
          },
          "metadata": {},
          "execution_count": 21
        }
      ]
    },
    {
      "cell_type": "markdown",
      "source": [
        "TOKEN_SORT_RATIO - Semelhança baseado em posição das palavras\n"
      ],
      "metadata": {
        "id": "WunF4naU1okQ"
      }
    },
    {
      "cell_type": "code",
      "source": [
        "str1 = \"42 é a resposta\"\n",
        "str2 = \"A resposta é 42\"\n",
        "fuzz.ratio(str1,str2)"
      ],
      "metadata": {
        "colab": {
          "base_uri": "https://localhost:8080/"
        },
        "id": "ZkvlgKOD1vyL",
        "outputId": "ba0d9590-fe16-469e-f69e-f5d2dc170fb9"
      },
      "execution_count": 16,
      "outputs": [
        {
          "output_type": "execute_result",
          "data": {
            "text/plain": [
              "60"
            ]
          },
          "metadata": {},
          "execution_count": 16
        }
      ]
    },
    {
      "cell_type": "code",
      "source": [
        "str1 = \"42 é a resposta\"\n",
        "str2 = \"A resposta é 42\"\n",
        "fuzz.token_sort_ratio(str1,str2)"
      ],
      "metadata": {
        "colab": {
          "base_uri": "https://localhost:8080/"
        },
        "id": "DHMqAcZt16jV",
        "outputId": "7e982500-2718-4de1-8be9-0211bc4c405c"
      },
      "execution_count": 17,
      "outputs": [
        {
          "output_type": "execute_result",
          "data": {
            "text/plain": [
              "100"
            ]
          },
          "metadata": {},
          "execution_count": 17
        }
      ]
    },
    {
      "cell_type": "markdown",
      "source": [
        "TOKEN_SET_RATIO - Semelhença baseado em repetição de palavras"
      ],
      "metadata": {
        "id": "v7NZmuRc2GDm"
      }
    },
    {
      "cell_type": "code",
      "source": [
        "str1 = \"42 é a resposta\"\n",
        "str2 = \"42 é a resposta resposta\"\n",
        "fuzz.ratio(str1,str2)"
      ],
      "metadata": {
        "colab": {
          "base_uri": "https://localhost:8080/"
        },
        "id": "8JF3JoeA2LtT",
        "outputId": "f739feca-33d8-48d9-e5cc-26ca738e1b43"
      },
      "execution_count": 25,
      "outputs": [
        {
          "output_type": "execute_result",
          "data": {
            "text/plain": [
              "77"
            ]
          },
          "metadata": {},
          "execution_count": 25
        }
      ]
    },
    {
      "cell_type": "code",
      "source": [
        "str1 = \"42 é a resposta\"\n",
        "str2 = \"42 é a resposta resposta\"\n",
        "fuzz.token_set_ratio(str1,str2)"
      ],
      "metadata": {
        "colab": {
          "base_uri": "https://localhost:8080/"
        },
        "id": "VIJYRi9-2pQF",
        "outputId": "b16dcc80-6edf-43a3-a0d6-2448de4a9047"
      },
      "execution_count": 24,
      "outputs": [
        {
          "output_type": "execute_result",
          "data": {
            "text/plain": [
              "100"
            ]
          },
          "metadata": {},
          "execution_count": 24
        }
      ]
    },
    {
      "cell_type": "markdown",
      "source": [
        "PROCESS.EXACT - Extração por aproximação"
      ],
      "metadata": {
        "id": "w9ItrJFj26bu"
      }
    },
    {
      "cell_type": "code",
      "source": [
        "lista = [\"Fiati Argo\", \"Hyundai HB20\", \"Fiat Mobi\", \"Chevrolet Onix\", \"Volkswagen Gol\", \"Renault Kwid\", \"Chevrolet Onix Plus\", \"Volkswagen Voyage\", \"Fiat Cronos\", \"Hiunday HB20S\", \"Hyundai Tucson\"]"
      ],
      "metadata": {
        "id": "ZXFsm9oL26Ad"
      },
      "execution_count": 59,
      "outputs": []
    },
    {
      "cell_type": "code",
      "source": [
        "process.extract(query=\"20\", choices=lista, limit=5)"
      ],
      "metadata": {
        "colab": {
          "base_uri": "https://localhost:8080/"
        },
        "id": "7_tToB5K8y3s",
        "outputId": "03667fbe-776d-4bec-d7a7-496dfffde9d8"
      },
      "execution_count": 60,
      "outputs": [
        {
          "output_type": "execute_result",
          "data": {
            "text/plain": [
              "[('Hyundai HB20', 90),\n",
              " ('Hiunday HB20S', 90),\n",
              " ('Fiati Argo', 0),\n",
              " ('Fiat Mobi', 0),\n",
              " ('Chevrolet Onix', 0)]"
            ]
          },
          "metadata": {},
          "execution_count": 60
        }
      ]
    },
    {
      "cell_type": "code",
      "source": [
        "process.extract(query=\"Hyundai 20\", choices=lista, limit=5)"
      ],
      "metadata": {
        "colab": {
          "base_uri": "https://localhost:8080/"
        },
        "id": "1zrRaUjo8LIE",
        "outputId": "e7a77f9d-496d-4ce5-c077-788424fd9ab5"
      },
      "execution_count": 61,
      "outputs": [
        {
          "output_type": "execute_result",
          "data": {
            "text/plain": [
              "[('Hyundai HB20', 91),\n",
              " ('Hyundai Tucson', 78),\n",
              " ('Hiunday HB20S', 70),\n",
              " ('Fiati Argo', 30),\n",
              " ('Chevrolet Onix Plus', 28)]"
            ]
          },
          "metadata": {},
          "execution_count": 61
        }
      ]
    },
    {
      "cell_type": "code",
      "source": [
        "process.extract(query=\"Fiat\", choices=lista, limit=5)"
      ],
      "metadata": {
        "colab": {
          "base_uri": "https://localhost:8080/"
        },
        "id": "g5I-SdUq8bqG",
        "outputId": "77c6dd9c-ecf7-4f6b-b20f-a23f59a9d419"
      },
      "execution_count": 62,
      "outputs": [
        {
          "output_type": "execute_result",
          "data": {
            "text/plain": [
              "[('Fiati Argo', 90),\n",
              " ('Fiat Mobi', 90),\n",
              " ('Fiat Cronos', 90),\n",
              " ('Renault Kwid', 45),\n",
              " ('Hyundai Tucson', 45)]"
            ]
          },
          "metadata": {},
          "execution_count": 62
        }
      ]
    },
    {
      "cell_type": "code",
      "source": [
        "process.extract(query=\"Fiat\", choices=lista, limit=5, scorer=fuzz.ratio)"
      ],
      "metadata": {
        "colab": {
          "base_uri": "https://localhost:8080/"
        },
        "id": "6J3i2aOe8FbG",
        "outputId": "c3f1ae31-893f-4928-b3ce-b62f6e29d1c2"
      },
      "execution_count": 63,
      "outputs": [
        {
          "output_type": "execute_result",
          "data": {
            "text/plain": [
              "[('Fiat Mobi', 62),\n",
              " ('Fiati Argo', 57),\n",
              " ('Fiat Cronos', 53),\n",
              " ('Renault Kwid', 25),\n",
              " ('Hiunday HB20S', 24)]"
            ]
          },
          "metadata": {},
          "execution_count": 63
        }
      ]
    }
  ]
}